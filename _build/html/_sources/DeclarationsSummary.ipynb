{
 "cells": [
  {
   "cell_type": "markdown",
   "metadata": {},
   "source": [
    "# Declarations\n",
    "\n",
    "No data type is needed and can be easily reassigned.\n",
    "\n",
    "The [ ] syntax and the len() function work on any sequence type"
   ]
  },
  {
   "cell_type": "markdown",
   "metadata": {},
   "source": [
    "# Strings"
   ]
  },
  {
   "cell_type": "code",
   "execution_count": 4,
   "metadata": {},
   "outputs": [
    {
     "name": "stdout",
     "output_type": "stream",
     "text": [
      "Nitin \n",
      " nitin Can't use single Quotes without backslash \t Don't have to use backslash\n",
      " Multiline\n",
      "comment\n",
      "example\n",
      "\n"
     ]
    }
   ],
   "source": [
    "# Strings\n",
    "\n",
    "s1 = \"Nitin\"\n",
    "s2 = 'nitin'\n",
    "s3 = 'Can\\'t use single Quotes without backslash'\n",
    "s4 = \"Don't have to use backslash\"\n",
    "s5 = \"\"\" Multiline\n",
    "comment\n",
    "example\n",
    "\"\"\"\n",
    "\n",
    "print(s1,'\\n',s2, s3,'\\t', s4)\n",
    "print(s5)\n"
   ]
  },
  {
   "cell_type": "markdown",
   "metadata": {},
   "source": [
    "# Lists"
   ]
  },
  {
   "cell_type": "code",
   "execution_count": 5,
   "metadata": {},
   "outputs": [
    {
     "name": "stdout",
     "output_type": "stream",
     "text": [
      "['Red', 'Green', 'Yellow']\n",
      "3\n"
     ]
    }
   ],
   "source": [
    "# Lists uses []\n",
    "colors = [] #Empty List\n",
    "colors = ['Red','Green', 'Yellow']\n",
    "print(colors)\n",
    "print (len(colors))"
   ]
  },
  {
   "cell_type": "markdown",
   "metadata": {},
   "source": [
    "# Dictionary"
   ]
  },
  {
   "cell_type": "code",
   "execution_count": 7,
   "metadata": {},
   "outputs": [
    {
     "name": "stdout",
     "output_type": "stream",
     "text": [
      "{'Hopefully': 1, 'you': 2, 'now': 1, 'have': 1, 'a': 3, 'good': 1, 'basic': 1, 'understanding': 1, 'how': 3, 'to': 5, 'construct': 1, 'dictionaries.': 1, \"There's\": 1, 'lot': 1, 'more': 1, 'go': 1, 'into': 1, 'here,': 1, 'but': 1, 'we': 1, 'will': 1, 'revisit': 1, 'dictionaries': 1, 'at': 1, 'later': 1, 'time.': 1, 'After': 1, 'this': 1, 'section': 1, 'all': 1, 'need': 1, 'know': 1, 'is': 1, 'create': 1, 'dictionary': 1, 'and': 1, 'retrieve': 1, 'values': 1, 'from': 1, 'it.': 1}\n"
     ]
    }
   ],
   "source": [
    "# Dictionary uses {}\n",
    "\n",
    "dict = {} #dict[key] = value\n",
    "dict['a'] = 1\n",
    "\n",
    "#if 'z' in dict:\n",
    "    \n",
    "str = \"Hopefully you now have a good basic understanding how to construct dictionaries. There's a lot more to go into here, but we will revisit dictionaries at later time. After this section all you need to know is how to create a dictionary and how to retrieve values from it.\"\n",
    "str = str.split() # By Default it splits with whitespace\n",
    "d = {} #Declaring Dictionary\n",
    "for s in str:\n",
    "    if (s in d):\n",
    "        d[s] += 1\n",
    "    else:\n",
    "        d[s] = 1\n",
    "        \n",
    "print (d)"
   ]
  },
  {
   "cell_type": "code",
   "execution_count": 8,
   "metadata": {},
   "outputs": [],
   "source": [
    "# Tuples uses ()\n",
    "# A tuple is a fixed size grouping of elements, such as an (x, y) co-ordinate\n",
    "# they are immutable and do not change size (tuples are not strictly immutable since one of the contained\n",
    "# elements could be mutable). \n",
    "# Tuples play a sort of \"struct\" role in Python\n",
    "t = ()\n",
    "t = ('one',1)\n",
    "\n",
    "#To create a size-1 tuple, the lone element must be followed by a comma.\n",
    "\n",
    "tuple = ('hi',)   ## size-1 tuple\n"
   ]
  },
  {
   "cell_type": "code",
   "execution_count": 6,
   "metadata": {},
   "outputs": [
    {
     "name": "stdout",
     "output_type": "stream",
     "text": [
      "40\n",
      "49\n"
     ]
    }
   ],
   "source": [
    "# Set\n",
    "x = set()\n",
    "\n",
    "#Set contains only unique elements\n",
    "str = \"Hopefully you now have a good basic understanding how to construct dictionaries. There's a lot more to go into here, but we will revisit dictionaries at later time. After this section all you need to know is how to create a dictionary and how to retrieve values from it.\"\n",
    "str = str.split(\" \")\n",
    "\n",
    "list = [1,2,3]\n",
    "x = set(list)\n",
    "y = set(str)\n",
    "print (len(y))\n",
    "print (len(str))"
   ]
  },
  {
   "cell_type": "code",
   "execution_count": 7,
   "metadata": {},
   "outputs": [
    {
     "name": "stdout",
     "output_type": "stream",
     "text": [
      "True\n",
      "False\n",
      "None\n"
     ]
    }
   ],
   "source": [
    "#Booleans\n",
    "\n",
    "a = True\n",
    "print (a)\n",
    "\n",
    "a = 1 > 2\n",
    "print(a)\n",
    "\n",
    "b = None\n",
    "print(b)"
   ]
  },
  {
   "cell_type": "code",
   "execution_count": 10,
   "metadata": {},
   "outputs": [
    {
     "ename": "SyntaxError",
     "evalue": "invalid syntax (<ipython-input-10-6736ff63bebf>, line 4)",
     "output_type": "error",
     "traceback": [
      "\u001b[1;36m  File \u001b[1;32m\"<ipython-input-10-6736ff63bebf>\"\u001b[1;36m, line \u001b[1;32m4\u001b[0m\n\u001b[1;33m    %%writefile test.txt\u001b[0m\n\u001b[1;37m    ^\u001b[0m\n\u001b[1;31mSyntaxError\u001b[0m\u001b[1;31m:\u001b[0m invalid syntax\n"
     ]
    }
   ],
   "source": [
    "# Creating Files using Jupyter\n",
    "#Specic to Jupyter Notebooks\n",
    "\n",
    "%%writefile test.txt\n",
    "Hello, this is a quick test file.\n"
   ]
  },
  {
   "cell_type": "code",
   "execution_count": 9,
   "metadata": {},
   "outputs": [
    {
     "ename": "NameError",
     "evalue": "name 'test' is not defined",
     "output_type": "error",
     "traceback": [
      "\u001b[1;31m---------------------------------------------------------------------------\u001b[0m",
      "\u001b[1;31mNameError\u001b[0m                                 Traceback (most recent call last)",
      "\u001b[1;32m<ipython-input-9-ca45b3582fea>\u001b[0m in \u001b[0;36m<module>\u001b[1;34m()\u001b[0m\n\u001b[1;32m----> 1\u001b[1;33m \u001b[0mmy_file\u001b[0m \u001b[1;33m=\u001b[0m \u001b[0mopen\u001b[0m\u001b[1;33m(\u001b[0m\u001b[0mtest\u001b[0m\u001b[1;33m.\u001b[0m\u001b[0mtxt\u001b[0m\u001b[1;33m)\u001b[0m\u001b[1;33m\u001b[0m\u001b[0m\n\u001b[0m\u001b[0;32m      2\u001b[0m \u001b[0mmy_file\u001b[0m\u001b[1;33m.\u001b[0m\u001b[0mread\u001b[0m\u001b[1;33m(\u001b[0m\u001b[1;33m)\u001b[0m \u001b[1;31m#The cursor reaches the end\u001b[0m\u001b[1;33m\u001b[0m\u001b[0m\n\u001b[0;32m      3\u001b[0m \u001b[1;33m\u001b[0m\u001b[0m\n\u001b[0;32m      4\u001b[0m \u001b[0mmy_file\u001b[0m\u001b[1;33m.\u001b[0m\u001b[0mseek\u001b[0m\u001b[1;33m(\u001b[0m\u001b[1;36m0\u001b[0m\u001b[1;33m)\u001b[0m \u001b[1;31m# Resetting the cursor to zero\u001b[0m\u001b[1;33m\u001b[0m\u001b[0m\n",
      "\u001b[1;31mNameError\u001b[0m: name 'test' is not defined"
     ]
    }
   ],
   "source": [
    "my_file = open(test.txt)\n",
    "my_file.read() #The cursor reaches the end\n",
    "\n",
    "my_file.seek(0) # Resetting the cursor to zero\n"
   ]
  },
  {
   "cell_type": "code",
   "execution_count": null,
   "metadata": {},
   "outputs": [],
   "source": []
  }
 ],
 "metadata": {
  "kernelspec": {
   "display_name": "Python 3",
   "language": "python",
   "name": "python3"
  },
  "language_info": {
   "codemirror_mode": {
    "name": "ipython",
    "version": 3
   },
   "file_extension": ".py",
   "mimetype": "text/x-python",
   "name": "python",
   "nbconvert_exporter": "python",
   "pygments_lexer": "ipython3",
   "version": "3.8.5"
  }
 },
 "nbformat": 4,
 "nbformat_minor": 2
}
