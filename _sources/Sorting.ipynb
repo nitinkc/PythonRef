{
 "cells": [
  {
   "cell_type": "markdown",
   "metadata": {},
   "source": [
    "# Sorted() Method\n",
    "\n",
    "- It can take as input any sort of iterable collection.\n"
   ]
  },
  {
   "cell_type": "code",
   "execution_count": 3,
   "metadata": {},
   "outputs": [
    {
     "name": "stdout",
     "output_type": "stream",
     "text": [
      "['Kirti', 'Nidhi', 'Nishu', 'Nitin']\n"
     ]
    }
   ],
   "source": [
    "s = [\"Nitin\",\"Kirti\", \"Nidhi\", \"Nishu\"]\n",
    "\n",
    "print (sorted(s))"
   ]
  },
  {
   "cell_type": "markdown",
   "metadata": {},
   "source": [
    "### The sorted() optional argument reverse=True, e.g. sorted(list, reverse=True), makes it sort backwards."
   ]
  },
  {
   "cell_type": "code",
   "execution_count": 4,
   "metadata": {},
   "outputs": [
    {
     "name": "stdout",
     "output_type": "stream",
     "text": [
      "['Nitin', 'Nishu', 'Nidhi', 'Kirti']\n"
     ]
    }
   ],
   "source": [
    "print (sorted(s,reverse=True))"
   ]
  },
  {
   "cell_type": "markdown",
   "metadata": {},
   "source": [
    "### sorted() takes an optional \"key=\" specifying a \"key\" function that transforms each element before comparison"
   ]
  },
  {
   "cell_type": "code",
   "execution_count": 7,
   "metadata": {},
   "outputs": [
    {
     "name": "stdout",
     "output_type": "stream",
     "text": [
      "['Nitin', 'Kirti', 'Nidhi', 'Nishu']\n"
     ]
    }
   ],
   "source": [
    "print (sorted(s, key=len))"
   ]
  },
  {
   "cell_type": "code",
   "execution_count": null,
   "metadata": {},
   "outputs": [],
   "source": []
  }
 ],
 "metadata": {
  "kernelspec": {
   "display_name": "Python 3",
   "language": "python",
   "name": "python3"
  },
  "language_info": {
   "codemirror_mode": {
    "name": "ipython",
    "version": 3
   },
   "file_extension": ".py",
   "mimetype": "text/x-python",
   "name": "python",
   "nbconvert_exporter": "python",
   "pygments_lexer": "ipython3",
   "version": "3.6.4"
  }
 },
 "nbformat": 4,
 "nbformat_minor": 2
}
